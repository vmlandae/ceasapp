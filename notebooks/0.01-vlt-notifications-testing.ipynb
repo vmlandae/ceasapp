{
 "cells": [
  {
   "cell_type": "code",
   "execution_count": 1,
   "metadata": {},
   "outputs": [
    {
     "name": "stderr",
     "output_type": "stream",
     "text": [
      "\u001b[32m2025-03-27 19:14:22.607\u001b[0m | \u001b[1mINFO    \u001b[0m | \u001b[36mceas.config\u001b[0m:\u001b[36m<module>\u001b[0m:\u001b[36m11\u001b[0m - \u001b[1mPROJ_ROOT path is: /Users/vmlandae/ceasapp\u001b[0m\n"
     ]
    }
   ],
   "source": [
    "import ceas.notifications as notifications\n",
    "import ceas.config as cfg\n"
   ]
  },
  {
   "cell_type": "code",
   "execution_count": 2,
   "metadata": {},
   "outputs": [],
   "source": [
    "import pandas as pd\n",
    "import datetime\n",
    "import holidays\n",
    "date1 = \"2025-04-29 00:00:00\"\n",
    "date2 = \"2025-05-04 00:00:00\""
   ]
  },
  {
   "cell_type": "code",
   "execution_count": 3,
   "metadata": {},
   "outputs": [
    {
     "name": "stdout",
     "output_type": "stream",
     "text": [
      "Festivos en Chile para el año 2025 son: {datetime.date(2025, 1, 1): 'Año Nuevo', datetime.date(2025, 4, 18): 'Viernes Santo', datetime.date(2025, 4, 19): 'Sábado Santo', datetime.date(2025, 5, 1): 'Día Nacional del Trabajo', datetime.date(2025, 5, 21): 'Día de las Glorias Navales', datetime.date(2025, 6, 20): 'Día Nacional de los Pueblos Indígenas', datetime.date(2025, 6, 29): 'San Pedro y San Pablo', datetime.date(2025, 7, 16): 'Virgen del Carmen', datetime.date(2025, 8, 15): 'Asunción de la Virgen', datetime.date(2025, 9, 18): 'Día de la Independencia', datetime.date(2025, 9, 19): 'Día de las Glorias del Ejército', datetime.date(2025, 10, 12): 'Día del Encuentro de dos Mundos', datetime.date(2025, 10, 31): 'Día Nacional de las Iglesias Evangélicas y Protestantes', datetime.date(2025, 11, 1): 'Día de Todos los Santos', datetime.date(2025, 12, 8): 'La Inmaculada Concepción', datetime.date(2025, 12, 25): 'Navidad'}\n",
      "Type de chilean_holidays: <class 'holidays.countries.chile.CL'>\n"
     ]
    }
   ],
   "source": [
    "date1 = pd.to_datetime(date1)\n",
    "date2 = pd.to_datetime(date2)\n",
    "\n",
    "# en la librería 'holidays' se encuentran los festivos en Chile\n",
    "current_date = datetime.datetime.now()\n",
    "current_year = current_date.year\n",
    "chilean_holidays = holidays.country_holidays(country=\"CL\",years=current_year,observed=True)\n",
    "print(\"Festivos en Chile para el año\",current_year,\"son:\",chilean_holidays)\n",
    "print(\"Type de chilean_holidays:\",type(chilean_holidays))\n"
   ]
  },
  {
   "cell_type": "code",
   "execution_count": 4,
   "metadata": {},
   "outputs": [],
   "source": [
    "\n",
    "\n",
    "# Extraemos los días hábiles entre las dos fechas\n",
    "days = pd.date_range(date1, date2, freq='B') # freq='B' es para extraer solo los días hábiles\n"
   ]
  },
  {
   "cell_type": "code",
   "execution_count": null,
   "metadata": {},
   "outputs": [],
   "source": [
    "days = [d.date() for d in days]\n",
    "mask = pd.Series(days).apply(lambda x: x in chilean_holidays) \n",
    "days = pd.Series(days)[~mask]"
   ]
  },
  {
   "cell_type": "code",
   "execution_count": null,
   "metadata": {},
   "outputs": [],
   "source": [
    "days.iloc[0]"
   ]
  },
  {
   "cell_type": "code",
   "execution_count": null,
   "metadata": {},
   "outputs": [],
   "source": [
    "# transformamos datetime a date\n",
    "days_ = [d.date() for d in days]\n",
    "print(days_)\n",
    "print(type(days_[0]))\n"
   ]
  },
  {
   "cell_type": "code",
   "execution_count": null,
   "metadata": {},
   "outputs": [
    {
     "data": {
      "text/plain": [
       "{datetime.date(2025, 1, 1): 'Año Nuevo', datetime.date(2025, 4, 18): 'Viernes Santo', datetime.date(2025, 4, 19): 'Sábado Santo', datetime.date(2025, 5, 1): 'Día Nacional del Trabajo', datetime.date(2025, 5, 21): 'Día de las Glorias Navales', datetime.date(2025, 6, 20): 'Día Nacional de los Pueblos Indígenas', datetime.date(2025, 6, 29): 'San Pedro y San Pablo', datetime.date(2025, 7, 16): 'Virgen del Carmen', datetime.date(2025, 8, 15): 'Asunción de la Virgen', datetime.date(2025, 9, 18): 'Día de la Independencia', datetime.date(2025, 9, 19): 'Día de las Glorias del Ejército', datetime.date(2025, 10, 12): 'Día del Encuentro de dos Mundos', datetime.date(2025, 10, 31): 'Día Nacional de las Iglesias Evangélicas y Protestantes', datetime.date(2025, 11, 1): 'Día de Todos los Santos', datetime.date(2025, 12, 8): 'La Inmaculada Concepción', datetime.date(2025, 12, 25): 'Navidad'}"
      ]
     },
     "execution_count": 6,
     "metadata": {},
     "output_type": "execute_result"
    }
   ],
   "source": []
  },
  {
   "cell_type": "code",
   "execution_count": null,
   "metadata": {},
   "outputs": [],
   "source": [
    "\n"
   ]
  },
  {
   "cell_type": "code",
   "execution_count": 10,
   "metadata": {},
   "outputs": [],
   "source": [
    "mask = pd.Series(days).apply(lambda x: x in chilean_holidays)"
   ]
  },
  {
   "cell_type": "code",
   "execution_count": null,
   "metadata": {},
   "outputs": [
    {
     "data": {
      "text/plain": [
       "0   2025-04-29\n",
       "1   2025-04-30\n",
       "3   2025-05-02\n",
       "dtype: datetime64[ns]"
      ]
     },
     "execution_count": 13,
     "metadata": {},
     "output_type": "execute_result"
    }
   ],
   "source": []
  },
  {
   "cell_type": "code",
   "execution_count": 9,
   "metadata": {},
   "outputs": [
    {
     "name": "stderr",
     "output_type": "stream",
     "text": [
      "/var/folders/jy/nmjq087x33df9p1skwlkpq4w0000gn/T/ipykernel_16850/505816166.py:4: FutureWarning: The behavior of 'isin' with dtype=datetime64[ns] and castable values (e.g. strings) is deprecated. In a future version, these will not be considered matching by isin. Explicitly cast to the appropriate dtype before calling isin instead.\n",
      "  days[~days.isin(chilean_holidays.keys())]\n"
     ]
    },
    {
     "data": {
      "text/plain": [
       "DatetimeIndex(['2025-04-29', '2025-04-30', '2025-05-02'], dtype='datetime64[ns]', freq=None)"
      ]
     },
     "execution_count": 9,
     "metadata": {},
     "output_type": "execute_result"
    }
   ],
   "source": [
    "#print(\"Días hábiles entre\",date1,\"y\",date2,\"son:\",days)\n",
    "# luego filtramos los días que no sean festivos\n",
    "# arreglamos FutureWarning: \"the behavior of 'isin' with dtype='datetime64[ns]' and castable values (e.g. strings) is deprecated and will raise in a future version. Use 'pd.to_datetime' to convert the values to datetime64[ns] before calling 'isin'.\"\n",
    "days[~days.isin(chilean_holidays.keys())]"
   ]
  },
  {
   "cell_type": "code",
   "execution_count": null,
   "metadata": {},
   "outputs": [],
   "source": [
    "chilean_holidays_list =  list(chilean_holidays.keys())\n",
    "\n"
   ]
  },
  {
   "cell_type": "code",
   "execution_count": null,
   "metadata": {},
   "outputs": [],
   "source": [
    "\n",
    "pd.Series(days).apply(lambda x: x in chilean_holidays_list)"
   ]
  },
  {
   "cell_type": "code",
   "execution_count": null,
   "metadata": {},
   "outputs": [],
   "source": [
    "days.any() in chilean_holidays_list"
   ]
  },
  {
   "cell_type": "code",
   "execution_count": null,
   "metadata": {},
   "outputs": [],
   "source": [
    "import os.path\n",
    "\n",
    "from google.auth.transport.requests import Request\n",
    "from google.oauth2.credentials import Credentials\n",
    "from google_auth_oauthlib.flow import InstalledAppFlow\n",
    "from googleapiclient.discovery import build\n",
    "from googleapiclient.errors import HttpError\n",
    "\n",
    "# If modifying these scopes, delete the file token.json.\n",
    "SCOPES = [\"https://www.googleapis.com/auth/gmail.readonly\"]\n",
    "\n",
    "\n",
    "\n",
    "\"\"\"Shows basic usage of the Gmail API.\n",
    "Lists the user's Gmail labels.\n",
    "\"\"\"\n",
    "creds = None\n",
    "# The file token.json stores the user's access and refresh tokens, and is\n",
    "# created automatically when the authorization flow completes for the first\n",
    "# time.\n"
   ]
  },
  {
   "cell_type": "code",
   "execution_count": null,
   "metadata": {},
   "outputs": [],
   "source": [
    "if os.path.exists(\"token.json\"):\n",
    "    creds = Credentials.from_authorized_user_file(\"token.json\", SCOPES)\n",
    "    # If there are no (valid) credentials available, let the user log in.\n",
    "if not creds or not creds.valid:\n",
    "    if creds and creds.expired and creds.refresh_token:\n",
    "        creds.refresh(Request())\n",
    "    else:\n",
    "        flow = InstalledAppFlow.from_client_secrets_file(\n",
    "            \"credentials.json\", SCOPES\n",
    "        )\n",
    "        creds = flow.run_local_server(port=0)\n",
    "    # Save the credentials for the next run\n",
    "    with open(\"token.json\", \"w\") as token:\n",
    "        token.write(creds.to_json())\n",
    "\n",
    "try:\n",
    "# Call the Gmail API\n",
    "    service = build(\"gmail\", \"v1\", credentials=creds)\n",
    "    results = service.users().labels().list(userId=\"me\").execute()\n",
    "    labels = results.get(\"labels\", [])\n",
    "\n",
    "    if not labels:\n",
    "        print(\"No labels found.\")\n",
    "        return\n",
    "    print(\"Labels:\")\n",
    "    for label in labels:\n",
    "        print(label[\"name\"])\n",
    "\n",
    "except HttpError as error:\n",
    "# TODO(developer) - Handle errors from gmail API.\n",
    "    print(f\"An error occurred: {error}\")\n",
    "\n"
   ]
  },
  {
   "cell_type": "code",
   "execution_count": null,
   "metadata": {},
   "outputs": [],
   "source": [
    "notifications.gmail_service_account_auth()"
   ]
  }
 ],
 "metadata": {
  "kernelspec": {
   "display_name": "ceas",
   "language": "python",
   "name": "python3"
  },
  "language_info": {
   "codemirror_mode": {
    "name": "ipython",
    "version": 3
   },
   "file_extension": ".py",
   "mimetype": "text/x-python",
   "name": "python",
   "nbconvert_exporter": "python",
   "pygments_lexer": "ipython3",
   "version": "3.12.9"
  }
 },
 "nbformat": 4,
 "nbformat_minor": 2
}
